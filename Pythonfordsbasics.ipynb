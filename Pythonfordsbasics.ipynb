{
  "nbformat": 4,
  "nbformat_minor": 0,
  "metadata": {
    "colab": {
      "provenance": [],
      "authorship_tag": "ABX9TyNfkgcTK+jX6ScozMMfwkMQ",
      "include_colab_link": true
    },
    "kernelspec": {
      "name": "python3",
      "display_name": "Python 3"
    },
    "language_info": {
      "name": "python"
    }
  },
  "cells": [
    {
      "cell_type": "markdown",
      "metadata": {
        "id": "view-in-github",
        "colab_type": "text"
      },
      "source": [
        "<a href=\"https://colab.research.google.com/github/Harshavardhannadiveedi/DataScience/blob/main/Pythonfordsbasics.ipynb\" target=\"_parent\"><img src=\"https://colab.research.google.com/assets/colab-badge.svg\" alt=\"Open In Colab\"/></a>"
      ]
    },
    {
      "cell_type": "markdown",
      "source": [
        "**Prime Numbers**\n",
        "\n",
        "Write a Python program that checks whether a given number is prime or not. A prime number is a natural number greater than 1 that has no positive divisors other than 1 and itself."
      ],
      "metadata": {
        "id": "VynW5EdABBX-"
      }
    },
    {
      "cell_type": "code",
      "execution_count": null,
      "metadata": {
        "colab": {
          "base_uri": "https://localhost:8080/"
        },
        "id": "KnfipoReAw6z",
        "outputId": "b56279f8-efc9-4e2f-af49-725d241a2bb5"
      },
      "outputs": [
        {
          "output_type": "stream",
          "name": "stdout",
          "text": [
            "Enter a natural number greater than 1: 7\n",
            "7 is a prime number.\n"
          ]
        }
      ],
      "source": [
        "def isprime(n):\n",
        "    if n <= 1:\n",
        "        return False\n",
        "    for i in range(2, int(n**0.5) + 1):\n",
        "        if n % i == 0:\n",
        "            return False\n",
        "    return True\n",
        "\n",
        "try:\n",
        "    n = int(input(\"Enter a natural number greater than 1: \"))\n",
        "    if n <= 1:\n",
        "        raise ValueError(\"Number must be greater than 1.\")\n",
        "    if isprime(n):\n",
        "        print(f\"{n} is a prime number.\")\n",
        "    else:\n",
        "        print(f\"{n} is not a prime number.\")\n",
        "except ValueError as e:\n",
        "  print(f\"Invalid input: {e}\")\n",
        "\n"
      ]
    },
    {
      "cell_type": "markdown",
      "source": [
        "**Product of Random Numbers**\n",
        "\n",
        "Develop a Python program that generates two random numbers and asks the user to enter the product of these numbers. The program should then check if the user's answer is correct and display an appropriate message.\n"
      ],
      "metadata": {
        "id": "lydEqw5kEwVx"
      }
    },
    {
      "cell_type": "code",
      "source": [
        "import random\n",
        "num1=random.randint(1,10)\n",
        "num2=random.randint(1,10)\n",
        "try:\n",
        "  user_input=int(input(f\"Enter the product of {num1} and {num2}:\"))\n",
        "  res=num1*num2\n",
        "  if res==user_input:\n",
        "    print(f\"Correct answer.😉😎\")\n",
        "  else:\n",
        "    print(f\"Incorrect. The correct answer is {res}.\")\n",
        "except ValueError:\n",
        "  print(\"Invalid input. Please enter a valid integer.\")"
      ],
      "metadata": {
        "colab": {
          "base_uri": "https://localhost:8080/"
        },
        "id": "Xi7SpMqKE2ZW",
        "outputId": "c9df23eb-0972-4888-ed93-abef1584a5bc"
      },
      "execution_count": null,
      "outputs": [
        {
          "output_type": "stream",
          "name": "stdout",
          "text": [
            "Enter the product of 8 and 8:64\n",
            "Correct answer.😉😎\n"
          ]
        }
      ]
    },
    {
      "cell_type": "markdown",
      "source": [
        "**Squares of Even/Odd Numbers**\n",
        "\n",
        "Create a Python script that prints the squares of all even or odd numbers within the range of 100 to 200. Choose either even or odd numbers and document your choice in the code."
      ],
      "metadata": {
        "id": "HgprJ51rHJvW"
      }
    },
    {
      "cell_type": "code",
      "source": [
        "def print_even(start,end):\n",
        "  for num in range(start,end+1):\n",
        "    if num%2==0:\n",
        "      print(f\"{num}^2 = {num ** 2}\")\n",
        "def print_odd(start,end):\n",
        "  for num in range(start,end+1):\n",
        "    if num%2!=0:\n",
        "      print(f\"{num}^2 = {num ** 2}\")\n",
        "\n",
        "if __name__==\"__main__\":\n",
        "  choice=input(\"Enter your choice(even/odd):\").upper()\n",
        "  if choice==\"EVEN\":\n",
        "    print_even(100,200)\n",
        "  elif choice==\"ODD\":\n",
        "    print_odd(100,200)\n",
        "  else:\n",
        "    print(\"Invalid choice\")"
      ],
      "metadata": {
        "colab": {
          "base_uri": "https://localhost:8080/"
        },
        "id": "-G4cAhG1J6_o",
        "outputId": "6ca99965-ea37-4e41-99fe-e3a8baa78bcb"
      },
      "execution_count": null,
      "outputs": [
        {
          "output_type": "stream",
          "name": "stdout",
          "text": [
            "Enter your choice(even/odd):even\n",
            "100^2 = 10000\n",
            "102^2 = 10404\n",
            "104^2 = 10816\n",
            "106^2 = 11236\n",
            "108^2 = 11664\n",
            "110^2 = 12100\n",
            "112^2 = 12544\n",
            "114^2 = 12996\n",
            "116^2 = 13456\n",
            "118^2 = 13924\n",
            "120^2 = 14400\n",
            "122^2 = 14884\n",
            "124^2 = 15376\n",
            "126^2 = 15876\n",
            "128^2 = 16384\n",
            "130^2 = 16900\n",
            "132^2 = 17424\n",
            "134^2 = 17956\n",
            "136^2 = 18496\n",
            "138^2 = 19044\n",
            "140^2 = 19600\n",
            "142^2 = 20164\n",
            "144^2 = 20736\n",
            "146^2 = 21316\n",
            "148^2 = 21904\n",
            "150^2 = 22500\n",
            "152^2 = 23104\n",
            "154^2 = 23716\n",
            "156^2 = 24336\n",
            "158^2 = 24964\n",
            "160^2 = 25600\n",
            "162^2 = 26244\n",
            "164^2 = 26896\n",
            "166^2 = 27556\n",
            "168^2 = 28224\n",
            "170^2 = 28900\n",
            "172^2 = 29584\n",
            "174^2 = 30276\n",
            "176^2 = 30976\n",
            "178^2 = 31684\n",
            "180^2 = 32400\n",
            "182^2 = 33124\n",
            "184^2 = 33856\n",
            "186^2 = 34596\n",
            "188^2 = 35344\n",
            "190^2 = 36100\n",
            "192^2 = 36864\n",
            "194^2 = 37636\n",
            "196^2 = 38416\n",
            "198^2 = 39204\n",
            "200^2 = 40000\n"
          ]
        }
      ]
    },
    {
      "cell_type": "code",
      "source": [
        "choice=input(\"Enter your choice(even/odd):\").upper()\n",
        "for i in range(100,201):\n",
        "  if choice==\"EVEN\":\n",
        "    if i%2==0:\n",
        "      print(f\"{i}^2 = {i ** 2}\")\n",
        "  elif choice==\"ODD\":\n",
        "    if i%2!=0:\n",
        "      print(f\"{i}^2 = {i ** 2}\")"
      ],
      "metadata": {
        "colab": {
          "base_uri": "https://localhost:8080/"
        },
        "id": "eTi4OGAM36mu",
        "outputId": "5e51dc45-a3b8-4857-8071-df59f7e69741"
      },
      "execution_count": 1,
      "outputs": [
        {
          "output_type": "stream",
          "name": "stdout",
          "text": [
            "Enter your choice(even/odd):even\n",
            "100^2 = 10000\n",
            "102^2 = 10404\n",
            "104^2 = 10816\n",
            "106^2 = 11236\n",
            "108^2 = 11664\n",
            "110^2 = 12100\n",
            "112^2 = 12544\n",
            "114^2 = 12996\n",
            "116^2 = 13456\n",
            "118^2 = 13924\n",
            "120^2 = 14400\n",
            "122^2 = 14884\n",
            "124^2 = 15376\n",
            "126^2 = 15876\n",
            "128^2 = 16384\n",
            "130^2 = 16900\n",
            "132^2 = 17424\n",
            "134^2 = 17956\n",
            "136^2 = 18496\n",
            "138^2 = 19044\n",
            "140^2 = 19600\n",
            "142^2 = 20164\n",
            "144^2 = 20736\n",
            "146^2 = 21316\n",
            "148^2 = 21904\n",
            "150^2 = 22500\n",
            "152^2 = 23104\n",
            "154^2 = 23716\n",
            "156^2 = 24336\n",
            "158^2 = 24964\n",
            "160^2 = 25600\n",
            "162^2 = 26244\n",
            "164^2 = 26896\n",
            "166^2 = 27556\n",
            "168^2 = 28224\n",
            "170^2 = 28900\n",
            "172^2 = 29584\n",
            "174^2 = 30276\n",
            "176^2 = 30976\n",
            "178^2 = 31684\n",
            "180^2 = 32400\n",
            "182^2 = 33124\n",
            "184^2 = 33856\n",
            "186^2 = 34596\n",
            "188^2 = 35344\n",
            "190^2 = 36100\n",
            "192^2 = 36864\n",
            "194^2 = 37636\n",
            "196^2 = 38416\n",
            "198^2 = 39204\n",
            "200^2 = 40000\n"
          ]
        }
      ]
    },
    {
      "cell_type": "markdown",
      "source": [
        "**Word counter**\n",
        "\n",
        "write a program to count the number of words in a given text.\n",
        "example:\n",
        "input_text = \"This is a sample text. This text will be used to demonstrate the word counter.\"\n",
        "Expected output:\n",
        "'This': 2\n",
        "'is': 1\n",
        "'a': 1\n",
        "'sample': 1\n",
        "'text.': 1\n"
      ],
      "metadata": {
        "id": "sH_O1Y6zKCGq"
      }
    },
    {
      "cell_type": "code",
      "source": [
        "s = input(\"Enter the text: \").split()\n",
        "counted = set()\n",
        "for word in s:\n",
        "    if word not in counted:\n",
        "      counted.add(word)\n",
        "      print(f\"{word}: {s.count(word)}\")"
      ],
      "metadata": {
        "colab": {
          "base_uri": "https://localhost:8080/"
        },
        "id": "vuFnACr7KN9V",
        "outputId": "31c18180-548a-4439-c03f-54ee86824574"
      },
      "execution_count": null,
      "outputs": [
        {
          "output_type": "stream",
          "name": "stdout",
          "text": [
            "Enter the text: This is a sample text. This text will be used to demonstrate the word counter\n",
            "This: 2\n",
            "is: 1\n",
            "a: 1\n",
            "sample: 1\n",
            "text.: 1\n",
            "text: 1\n",
            "will: 1\n",
            "be: 1\n",
            "used: 1\n",
            "to: 1\n",
            "demonstrate: 1\n",
            "the: 1\n",
            "word: 1\n",
            "counter: 1\n"
          ]
        }
      ]
    },
    {
      "cell_type": "markdown",
      "source": [
        "**Check for Palindrome**\n",
        "\n",
        "\n",
        "Write a Python function called is_palindrome that takes a string as input and returns True if the string is a palindrome, and False otherwise. A palindrome is a word, phrase, number, or other sequence of characters that reads the same forward and backward, ignoring spaces, punctuation, and capitalization.\n"
      ],
      "metadata": {
        "id": "HmnPwJA9OOJH"
      }
    },
    {
      "cell_type": "code",
      "source": [
        "def is_palindrome(n):\n",
        "  if n==n[::-1]:  #\"\".join(reversed(n))\n",
        "    return True\n",
        "  return False\n",
        "n=input(\"Enter a String:\").lower()\n",
        "is_palindrome(n)"
      ],
      "metadata": {
        "colab": {
          "base_uri": "https://localhost:8080/"
        },
        "id": "kytFV1r_OTg2",
        "outputId": "e5087f12-4af6-4a4b-e012-7b791d50bb91"
      },
      "execution_count": null,
      "outputs": [
        {
          "name": "stdout",
          "output_type": "stream",
          "text": [
            "Enter a String:racecar\n"
          ]
        },
        {
          "output_type": "execute_result",
          "data": {
            "text/plain": [
              "True"
            ]
          },
          "metadata": {},
          "execution_count": 64
        }
      ]
    }
  ]
}